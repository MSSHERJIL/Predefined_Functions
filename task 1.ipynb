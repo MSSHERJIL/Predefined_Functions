{
  "nbformat": 4,
  "nbformat_minor": 0,
  "metadata": {
    "colab": {
      "provenance": []
    },
    "kernelspec": {
      "name": "python3",
      "display_name": "Python 3"
    },
    "language_info": {
      "name": "python"
    }
  },
  "cells": [
    {
      "cell_type": "code",
      "execution_count": 1,
      "metadata": {
        "colab": {
          "base_uri": "https://localhost:8080/"
        },
        "id": "j0IjjOI6Z3TO",
        "outputId": "0dffc61c-800d-442c-e0a3-84eb762fddec"
      },
      "outputs": [
        {
          "output_type": "stream",
          "name": "stdout",
          "text": [
            "True\n"
          ]
        }
      ],
      "source": [
        "\n",
        "# predefined  functions\n",
        "#METHOD: all()\n",
        "#DESCRIPTION : Returns ture when all elements in iterable is true.\n",
        "a = (2,3,5,7,11)\n",
        "print(all(a))"
      ]
    },
    {
      "cell_type": "code",
      "source": [
        "a = (0,2,3,5,7,11)\n",
        "print(all(a))"
      ],
      "metadata": {
        "colab": {
          "base_uri": "https://localhost:8080/"
        },
        "id": "LjGbB3Psa7iG",
        "outputId": "6d1160bb-583c-4016-b792-eee9aa597e39"
      },
      "execution_count": 2,
      "outputs": [
        {
          "output_type": "stream",
          "name": "stdout",
          "text": [
            "False\n"
          ]
        }
      ]
    },
    {
      "cell_type": "code",
      "source": [
        "#METHOD: any()\n",
        "#DESCRIPTION : Check if any element of an iterable is true.\n",
        "\n",
        "a = (0,2,3,5,7,11)\n",
        "print(any(a))\n"
      ],
      "metadata": {
        "colab": {
          "base_uri": "https://localhost:8080/"
        },
        "id": "Q92g48o8bCgn",
        "outputId": "7f5d64dd-a0dc-4719-d798-f3dec7a4e8d9"
      },
      "execution_count": 3,
      "outputs": [
        {
          "output_type": "stream",
          "name": "stdout",
          "text": [
            "True\n"
          ]
        }
      ]
    },
    {
      "cell_type": "code",
      "source": [
        "#METHOD: acsii()\n",
        "#DESCRIPTION : Returns string containing printable presentation of an object.\n",
        "a = 'Denmark'\n",
        "print(ascii(a))\n",
        "x = 'Denmark£'\n",
        "print(ascii(x))\n"
      ],
      "metadata": {
        "colab": {
          "base_uri": "https://localhost:8080/"
        },
        "id": "a_iDKCyWciw4",
        "outputId": "aa620804-0224-487b-975b-8ea7b1ee372f"
      },
      "execution_count": 17,
      "outputs": [
        {
          "output_type": "stream",
          "name": "stdout",
          "text": [
            "'Denmark'\n",
            "'Denmark\\xa3'\n"
          ]
        }
      ]
    },
    {
      "cell_type": "code",
      "source": [
        "#METHOD: bin()\n",
        "#DESCRIPTION : Conert deecimal number into binary.\n",
        "num = (1234)\n",
        "bin(num)"
      ],
      "metadata": {
        "colab": {
          "base_uri": "https://localhost:8080/",
          "height": 36
        },
        "id": "Ec3_p2lZdrGB",
        "outputId": "2c24c6dc-1e76-4932-face-78bc38676251"
      },
      "execution_count": 9,
      "outputs": [
        {
          "output_type": "execute_result",
          "data": {
            "text/plain": [
              "'0b10011010010'"
            ],
            "application/vnd.google.colaboratory.intrinsic+json": {
              "type": "string"
            }
          },
          "metadata": {},
          "execution_count": 9
        }
      ]
    },
    {
      "cell_type": "code",
      "source": [
        "#METHOD: bool()\n",
        "#DESCRIPTION : Converts the given value to boolean\n",
        "num = (123456)\n",
        "bool(num)\n"
      ],
      "metadata": {
        "colab": {
          "base_uri": "https://localhost:8080/"
        },
        "id": "NX5BfjhPedP8",
        "outputId": "107d379c-ac76-4423-f1a9-8dd9ef7c1b52"
      },
      "execution_count": 16,
      "outputs": [
        {
          "output_type": "execute_result",
          "data": {
            "text/plain": [
              "True"
            ]
          },
          "metadata": {},
          "execution_count": 16
        }
      ]
    },
    {
      "cell_type": "code",
      "source": [
        "#METHOD: pow()\n",
        "#DESCRIPTION : Return the power of a number\n",
        "number = 2\n",
        "pow(number,6)"
      ],
      "metadata": {
        "colab": {
          "base_uri": "https://localhost:8080/"
        },
        "id": "gZXsKcIkfezy",
        "outputId": "1e8027b5-f81e-45e4-b40e-ce39caa6fdc0"
      },
      "execution_count": 22,
      "outputs": [
        {
          "output_type": "execute_result",
          "data": {
            "text/plain": [
              "64"
            ]
          },
          "metadata": {},
          "execution_count": 22
        }
      ]
    },
    {
      "cell_type": "code",
      "source": [
        "#METHOD: hex()\n",
        "#DESCRIPTION :Converts to Integer to Hexadecimal.\n",
        "a= (123)\n",
        "hex(a)\n"
      ],
      "metadata": {
        "colab": {
          "base_uri": "https://localhost:8080/",
          "height": 36
        },
        "id": "4SOO8xVggHoL",
        "outputId": "2956bb76-e960-40d8-9eb6-4fc9985109ac"
      },
      "execution_count": 24,
      "outputs": [
        {
          "output_type": "execute_result",
          "data": {
            "text/plain": [
              "'0x7b'"
            ],
            "application/vnd.google.colaboratory.intrinsic+json": {
              "type": "string"
            }
          },
          "metadata": {},
          "execution_count": 24
        }
      ]
    },
    {
      "cell_type": "code",
      "source": [
        "#METHOD: oct()\n",
        "#DESCRIPTION : returns an integer’s octal representation.\n",
        "a= (123)\n",
        "oct(a)\n"
      ],
      "metadata": {
        "colab": {
          "base_uri": "https://localhost:8080/",
          "height": 36
        },
        "id": "bbkGPedeici7",
        "outputId": "c469e861-1a34-41c7-cec6-31e18cf981f1"
      },
      "execution_count": 25,
      "outputs": [
        {
          "output_type": "execute_result",
          "data": {
            "text/plain": [
              "'0o173'"
            ],
            "application/vnd.google.colaboratory.intrinsic+json": {
              "type": "string"
            }
          },
          "metadata": {},
          "execution_count": 25
        }
      ]
    },
    {
      "cell_type": "code",
      "source": [
        "#METHOD: islower()\n",
        "#DESCRIPTION : Returns a true where all characters are lower case.\n",
        "text = ('MY NAME IS ALI')\n",
        "text.islower()"
      ],
      "metadata": {
        "colab": {
          "base_uri": "https://localhost:8080/"
        },
        "id": "oSiV2C20ja38",
        "outputId": "bdddcf5a-2c02-4e82-d3dc-9fd7ddfbfa4f"
      },
      "execution_count": 2,
      "outputs": [
        {
          "output_type": "execute_result",
          "data": {
            "text/plain": [
              "False"
            ]
          },
          "metadata": {},
          "execution_count": 2
        }
      ]
    },
    {
      "cell_type": "code",
      "source": [
        "#METHOD: isupper()\n",
        "#DESCRIPTION : Returns a true where all characters are upper case.\n",
        "text = ('MY NAME IS ALI')\n",
        "text.isupper()"
      ],
      "metadata": {
        "colab": {
          "base_uri": "https://localhost:8080/"
        },
        "id": "6e2IVu7nmLJF",
        "outputId": "fed1a22d-1697-47a1-d23e-308c52429b09"
      },
      "execution_count": 3,
      "outputs": [
        {
          "output_type": "execute_result",
          "data": {
            "text/plain": [
              "True"
            ]
          },
          "metadata": {},
          "execution_count": 3
        }
      ]
    },
    {
      "cell_type": "code",
      "source": [
        "#METHOD: istitle()\n",
        "#DESCRIPTION :  Returns a true when the first letter of every word in the string in uppercase and rest in lowercase.\n",
        "text = 'World Is Beautiful:'\n",
        "text.istitle()\n"
      ],
      "metadata": {
        "colab": {
          "base_uri": "https://localhost:8080/"
        },
        "id": "MnrsFu_ksxyv",
        "outputId": "c8f1c09a-0a91-49e7-d801-af55a381b4e7"
      },
      "execution_count": 3,
      "outputs": [
        {
          "output_type": "execute_result",
          "data": {
            "text/plain": [
              "True"
            ]
          },
          "metadata": {},
          "execution_count": 3
        }
      ]
    }
  ]
}